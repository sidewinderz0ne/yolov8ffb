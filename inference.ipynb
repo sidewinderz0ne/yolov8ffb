{
 "cells": [
  {
   "cell_type": "code",
   "execution_count": 3,
   "id": "0a85a5fb-3044-45da-a574-dcd22d16676d",
   "metadata": {},
   "outputs": [
    {
     "name": "stdout",
     "output_type": "stream",
     "text": [
      "/home/sdz/yolonas/yolov8ffb\n"
     ]
    }
   ],
   "source": [
    "cd /home/sdz/yolonas/yolov8ffb/"
   ]
  },
  {
   "cell_type": "code",
   "execution_count": 36,
   "id": "eb2b599f-554a-4ed7-baf5-5639e41ae8f5",
   "metadata": {},
   "outputs": [
    {
     "name": "stdout",
     "output_type": "stream",
     "text": [
      "./hasil/2023-09-05/2023-09-05 11:36:46_-_-_best.JPG\n",
      "tersimpan best\n",
      "Directory './hasil/2023-09-05/' already exists.\n",
      "./hasil/2023-09-05/2023-09-05 11:36:46_-_-_best.JPG\n",
      "tersimpan best\n",
      "Directory './hasil/2023-09-05/' already exists.\n",
      "./hasil/2023-09-05/2023-09-05 11:36:46_-_-_best.JPG\n",
      "tersimpan best\n",
      "Directory './hasil/2023-09-05/' already exists.\n",
      "./hasil/2023-09-05/2023-09-05 11:36:46_-_-_best.JPG\n",
      "tersimpan best\n",
      "Traceback (most recent call last):\n",
      "File \"/home/sdz/yolonas/yolov8ffb/8-track-batas_2.py\", line 596, in <module>\n",
      "close()\n",
      "File \"/home/sdz/yolonas/yolov8ffb/8-track-batas_2.py\", line 427, in close\n",
      "save_inference_data(class_count, str(date_start),str(datetime.now(tz=tzInfo).strftime(\"%Y-%m-%d %H:%M:%S\")), str(log_inference))\n",
      "File \"/home/sdz/yolonas/yolov8ffb/8-track-batas_2.py\", line 343, in save_inference_data\n",
      "with open(path_inference_truk, 'r') as x:\n",
      "^^^^^^^^^^^^^^^^^^^^^^^^^^^^^^\n",
      "FileNotFoundError: [Errno 2] No such file or directory: '//home/sdz/grading/inference/github/yolov8ffb/log_inference_sampling/2023-09-05_log.TXT'\n"
     ]
    }
   ],
   "source": [
    "import subprocess\n",
    "\n",
    "# Your original command\n",
    "command = 'python 8-track-batas_2.py --roi 0.43 --conf_thres 0.5 --source \"/home/sdz/yolonas/sampel_scm/sampel_scm.mp4\" --yolo_model \"/home/sdz/grading/inference/Models/model_yolov8/2023-09-04-20-28_yolov8s_1280/train/weights/best.pt\"'\n",
    "\n",
    "process = subprocess.Popen(command, shell=True, stdout=subprocess.PIPE, stderr=subprocess.STDOUT, text=True)\n",
    "\n",
    "# Initialize a list to store the last 100 lines of output\n",
    "output_buffer = []\n",
    "\n",
    "while True:\n",
    "    output = process.stdout.readline()\n",
    "    if output == '' and process.poll() is not None:\n",
    "        break\n",
    "    if output:\n",
    "        # Add the current line to the output buffer\n",
    "        output_buffer.append(output.strip())\n",
    "        # Keep only the last 100 lines in the buffer\n",
    "        if len(output_buffer) > 20:\n",
    "            output_buffer.pop(0)\n",
    "\n",
    "# Print the last 100 lines from the output buffer\n",
    "for line in output_buffer:\n",
    "    print(line)\n"
   ]
  },
  {
   "cell_type": "code",
   "execution_count": null,
   "id": "c659c7c1-3bbc-4aa2-920e-3dd239573b53",
   "metadata": {},
   "outputs": [],
   "source": []
  }
 ],
 "metadata": {
  "kernelspec": {
   "display_name": "Python 3 (ipykernel)",
   "language": "python",
   "name": "python3"
  },
  "language_info": {
   "codemirror_mode": {
    "name": "ipython",
    "version": 3
   },
   "file_extension": ".py",
   "mimetype": "text/x-python",
   "name": "python",
   "nbconvert_exporter": "python",
   "pygments_lexer": "ipython3",
   "version": "3.11.5"
  }
 },
 "nbformat": 4,
 "nbformat_minor": 5
}
