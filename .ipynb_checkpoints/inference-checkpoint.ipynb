{
 "cells": [
  {
   "cell_type": "code",
   "execution_count": 1,
   "id": "0a85a5fb-3044-45da-a574-dcd22d16676d",
   "metadata": {},
   "outputs": [
    {
     "name": "stdout",
     "output_type": "stream",
     "text": [
      "/home/sdz/grading/inference/github/yolov8ffb\n"
     ]
    }
   ],
   "source": [
    "cd /home/sdz/grading/inference/github/yolov8ffb/"
   ]
  },
  {
   "cell_type": "code",
   "execution_count": 12,
   "id": "eb2b599f-554a-4ed7-baf5-5639e41ae8f5",
   "metadata": {},
   "outputs": [
    {
     "name": "stdout",
     "output_type": "stream",
     "text": [
      "/home/sdz/grading/inference/Models/model_yolov8/2023-09-04-20-28_yolov8s_1280/train/weights/best.pt\n",
      "\n",
      "/home/sdz/yolonas/lib/python3.11/site-packages/torch/nn/modules/conv.py:459: UserWarning: Applied workaround for CuDNN issue, install nvrtc.so (Triggered internally at ../aten/src/ATen/native/cudnn/Conv_v8.cpp:80.)\n",
      "  return F.conv2d(input, weight, bias, self.stride,\n",
      "0: 736x1280 5 unripes, 2 ripes, 1 overripe, 68.6ms\n",
      "Speed: 5.9ms preprocess, 68.6ms inference, 48.0ms postprocess per image at shape (1, 3, 736, 1280)\n",
      "Traceback (most recent call last):\n",
      "  File \"/home/sdz/grading/inference/github/yolov8ffb/8-track-batas_2.py\", line 499, in <module>\n",
      "    save_img_inference_sampling(annotated_frame, prefix + 'best.JPG')\n",
      "  File \"/home/sdz/grading/inference/github/yolov8ffb/8-track-batas_2.py\", line 297, in save_img_inference_sampling\n",
      "    os.makedirs(directory_path)\n",
      "  File \"<frozen os>\", line 225, in makedirs\n",
      "PermissionError: [Errno 13] Permission denied: './hasil/2023-09-05/'\n"
     ]
    }
   ],
   "source": [
    "!python 8-track-batas_2.py --source \"/home/sdz/grading/inference/Sources/ch01_00000000003000000/ch01_00000000324000000.mp4\" --yolo_model \"/home/sdz/grading/inference/Models/model_yolov8/2023-09-04-20-28_yolov8s_1280/train/weights/best.pt\""
   ]
  },
  {
   "cell_type": "code",
   "execution_count": null,
   "id": "c659c7c1-3bbc-4aa2-920e-3dd239573b53",
   "metadata": {},
   "outputs": [],
   "source": []
  }
 ],
 "metadata": {
  "kernelspec": {
   "display_name": "Python 3 (ipykernel)",
   "language": "python",
   "name": "python3"
  },
  "language_info": {
   "codemirror_mode": {
    "name": "ipython",
    "version": 3
   },
   "file_extension": ".py",
   "mimetype": "text/x-python",
   "name": "python",
   "nbconvert_exporter": "python",
   "pygments_lexer": "ipython3",
   "version": "3.11.5"
  }
 },
 "nbformat": 4,
 "nbformat_minor": 5
}
