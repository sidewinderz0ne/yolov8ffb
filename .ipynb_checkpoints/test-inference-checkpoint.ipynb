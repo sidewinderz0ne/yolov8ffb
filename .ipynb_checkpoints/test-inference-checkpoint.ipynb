{
 "cells": [
  {
   "cell_type": "code",
   "execution_count": 1,
   "id": "4a3c89ef-d99b-472a-8565-21bf1be6d11c",
   "metadata": {},
   "outputs": [
    {
     "name": "stdout",
     "output_type": "stream",
     "text": [
      "/home/sdz/yolonas/yolov8ffb\n"
     ]
    }
   ],
   "source": [
    "cd /home/sdz/yolonas/yolov8ffb/"
   ]
  },
  {
   "cell_type": "code",
   "execution_count": null,
   "id": "47c28391-4f0a-46a5-8487-6a7d1c607782",
   "metadata": {},
   "outputs": [],
   "source": [
    "import subprocess\n",
    "\n",
    "imgszs = [1280, 640]\n",
    "rois = [0.5, 0.6, 0.4, 0.5]\n",
    "thres = [0.5, 0.4, 0.6, 0.7]\n",
    "\n",
    "models = [\"/home/sdz/grading/inference/Models/model_yolov8/2023-09-04-20-28_yolov8x_640/train/weights/best.pt\", \n",
    "          \"/home/sdz/grading/inference/Models/model_yolov8/2023-09-04-20-28_yolov8s_1280/train/weights/best.pt\", \n",
    "          \"/home/sdz/grading/inference/Models/model_yolov8/2023-09-04-20-28_yolov8s_640/train/weights/best.pt\", \n",
    "          \"/home/sdz/grading/inference/Models/model_yolov8/2023-09-04-20-28_yolov8n_1280/train/weights/best.pt\", \n",
    "          \"/home/sdz/grading/inference/Models/model_yolov8/2023-09-04-20-28_yolov8n_640/train/weights/best.pt\",\n",
    "          \"/home/sdz/grading/inference/Models/model_yolov8/2023-09-04-20-28_yolov8m_640/train/weights/best.pt\",\n",
    "          \"/home/sdz/grading/inference/Models/model_yolov8/2023-09-04-20-28_yolov8l_1280/train/weights/best.pt\",\n",
    "          \"/home/sdz/grading/inference/Models/model_yolov8/2023-09-04-20-28_yolov8l_640/train/weights/best.pt\",\n",
    "          \"/home/sdz/grading/inference/Models/model_yolov8/2023-09-04-20-28_yolov5lu_640/train/weights/best.pt\",\n",
    "          \"/home/sdz/grading/inference/Models/model_yolov8/2023-09-02-12-16_yolov5xu_640/train/weights/best.pt\",\n",
    "                   \"/home/sdz/grading/inference/Models/model_yolov8/2023-09-02-12-16_yolov5su_1280/train/weights/best.pt\",\n",
    "                   \"/home/sdz/grading/inference/Models/model_yolov8/2023-09-02-12-16_yolov5su_640/train/weights/best.pt\",\n",
    "                   \"/home/sdz/grading/inference/Models/model_yolov8/2023-09-04-20-28_yolov5nu_1280/train/weights/best.pt\",\n",
    "                   \"/home/sdz/grading/inference/Models/model_yolov8/2023-09-04-20-28_yolov5nu_640/train/weights/best.pt\",\n",
    "                   \"/home/sdz/grading/inference/Models/model_yolov8/2023-09-04-20-28_yolov5mu_640/train/weights/best.pt\"]\n",
    "\n",
    "sources = [\"/home/sdz/yolonas/sampel_scm/sampel_scm.mp4\"]\n",
    "\n",
    "for model in models:\n",
    "    for imgsz in imgszs:\n",
    "        for source in sources:\n",
    "            for roi in rois:\n",
    "                for thre in thres:  # Corrected typo here\n",
    "                    # Construct the command as you did before\n",
    "                    command = f'python 8-track-batas_2.py --roi {roi} --conf_thres {thre} --source {source} --yolo_model {model} --imgsz {imgsz}'\n",
    "\n",
    "                    # Execute the command within the same Python process\n",
    "                    result = !{command}\n",
    "\n",
    "                    # Process the result as needed\n",
    "                    for line in result:\n",
    "                        print(line)\n"
   ]
  },
  {
   "cell_type": "code",
   "execution_count": null,
   "id": "a96cabf3-dda4-49f5-ac9b-794a1ff7af17",
   "metadata": {},
   "outputs": [],
   "source": []
  }
 ],
 "metadata": {
  "kernelspec": {
   "display_name": "Python 3 (ipykernel)",
   "language": "python",
   "name": "python3"
  },
  "language_info": {
   "codemirror_mode": {
    "name": "ipython",
    "version": 3
   },
   "file_extension": ".py",
   "mimetype": "text/x-python",
   "name": "python",
   "nbconvert_exporter": "python",
   "pygments_lexer": "ipython3",
   "version": "3.11.5"
  }
 },
 "nbformat": 4,
 "nbformat_minor": 5
}
