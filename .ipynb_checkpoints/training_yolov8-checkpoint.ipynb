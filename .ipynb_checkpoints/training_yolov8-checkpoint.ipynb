{
 "cells": [
  {
   "cell_type": "code",
   "execution_count": 1,
   "id": "147e9e0e",
   "metadata": {},
   "outputs": [
    {
     "name": "stdout",
     "output_type": "stream",
     "text": [
      "/home/grading/yolov8\n"
     ]
    }
   ],
   "source": [
    "cd /home/grading/yolov8/"
   ]
  },
  {
   "cell_type": "code",
   "execution_count": null,
   "id": "11a960fc",
   "metadata": {
    "scrolled": true
   },
   "outputs": [],
   "source": [
    "models = [\"yolov5lu\", \"yolov5mu\", \"yolov5nu\", \"yolov5su\", \"yolov5xu\",\"yolov8l\",\"yolov8m\",\"yolov8n\",\"yolov8s\",\"yolov8x\"]\n",
    "img_sizes = [1280, 640]\n",
    "batch_size = 5\n",
    "excludeModels = [[\"yolov5mu\",\"640\"],[\"yolov5nu\",\"640\"],[\"yolov5nu\",\"1280\"],[\"yolov5su\",\"640\"],[\"yolov5su\",\"1280\"],[\"yolov5xu\",\"640\"]]\n",
    "\n",
    "import subprocess\n",
    "from datetime import datetime\n",
    "\n",
    "# Initialize a list to store the last 100 lines of output\n",
    "output_buffer = []\n",
    "\n",
    "for model in models:\n",
    "    for img_size in img_sizes:\n",
    "        skip_model = False  # Flag to skip the current model and image size combination\n",
    "        \n",
    "        for excludeModel in excludeModels:\n",
    "            if img_size == int(excludeModel[1]) and model == excludeModel[0]:\n",
    "                skip_model = True\n",
    "                break  # Exit the inner loop if a match is found\n",
    "        \n",
    "        if skip_model:\n",
    "            continue  # Skip the current model and image size combination\n",
    "\n",
    "        # Get the current date and time\n",
    "        current_datetime = datetime.now()\n",
    "        \n",
    "        # Format the current date and time as \"YYYY-MM-DD\"\n",
    "        formatted_date = current_datetime.strftime(\"%Y-%m-%d-%H-%M\")\n",
    "        \n",
    "        project = f\"{formatted_date}_{model}_{img_size}\"\n",
    "        command = f\"yolo task=detect mode=train project={project} epochs=1000 data=class.yaml model={model} imgsz={img_size} batch={batch_size} patience=30 resume=False\"\n",
    "\n",
    "        process = subprocess.Popen(command, shell=True, stdout=subprocess.PIPE, stderr=subprocess.STDOUT, text=True)\n",
    "\n",
    "        while True:\n",
    "            output = process.stdout.readline()\n",
    "            if output == '' and process.poll() is not None:\n",
    "                break\n",
    "            if output:\n",
    "                # Add the current line to the output buffer\n",
    "                output_buffer.append(output.strip())\n",
    "                # Keep only the last 100 lines in the buffer\n",
    "                if len(output_buffer) > 100:\n",
    "                    output_buffer.pop(0)\n",
    "\n",
    "# Print the last 100 lines from the output buffer\n",
    "for line in output_buffer:\n",
    "    print(line)"
   ]
  },
  {
   "cell_type": "code",
   "execution_count": null,
   "id": "b37a78d6",
   "metadata": {},
   "outputs": [],
   "source": []
  }
 ],
 "metadata": {
  "kernelspec": {
   "display_name": "Python 3 (ipykernel)",
   "language": "python",
   "name": "python3"
  },
  "language_info": {
   "codemirror_mode": {
    "name": "ipython",
    "version": 3
   },
   "file_extension": ".py",
   "mimetype": "text/x-python",
   "name": "python",
   "nbconvert_exporter": "python",
   "pygments_lexer": "ipython3",
   "version": "3.11.5"
  }
 },
 "nbformat": 4,
 "nbformat_minor": 5
}
