{
 "cells": [
  {
   "cell_type": "code",
   "execution_count": 2,
   "id": "16714a25-f6aa-4a06-8d20-4e77c7e04efc",
   "metadata": {},
   "outputs": [
    {
     "name": "stdout",
     "output_type": "stream",
     "text": [
      "/home/grading/yolov8ffb\n"
     ]
    }
   ],
   "source": [
    "cd /home/grading/yolov8ffb"
   ]
  },
  {
   "cell_type": "code",
   "execution_count": 3,
   "id": "bf2a744f-d779-4e7f-80f4-6036e0d3015d",
   "metadata": {},
   "outputs": [
    {
     "name": "stdout",
     "output_type": "stream",
     "text": [
      "Progress: 50.00% (1/2), ETR: 0.00 seconds\n",
      "QApplication: invalid style override 'kvantum' passed, ignoring it.\n",
      "\tAvailable styles: Windows, Fusion\n",
      "/home/grading/yolov8/lib/python3.11/site-packages/torch/nn/modules/conv.py:456: UserWarning: Applied workaround for CuDNN issue, install nvrtc.so (Triggered internally at ../aten/src/ATen/native/cudnn/Conv_v8.cpp:80.)\n",
      "  return F.conv2d(input, weight, bias, self.stride,\n",
      "Progress: 100.00% (2/2), ETR: 0.00 seconds\n",
      "QApplication: invalid style override 'kvantum' passed, ignoring it.\n",
      "\tAvailable styles: Windows, Fusion\n",
      "/home/grading/yolov8/lib/python3.11/site-packages/torch/nn/modules/conv.py:456: UserWarning: Applied workaround for CuDNN issue, install nvrtc.so (Triggered internally at ../aten/src/ATen/native/cudnn/Conv_v8.cpp:80.)\n",
      "  return F.conv2d(input, weight, bias, self.stride,\n"
     ]
    }
   ],
   "source": [
    "import subprocess\n",
    "import time\n",
    "\n",
    "imgszs = [1280]\n",
    "rois = [0.3]\n",
    "thres = [0.2]\n",
    "ious = [0.5]\n",
    "\n",
    "models = [\n",
    "          \"/home/grading/yolov8/weight/yolov8n_gabungan_total_sampling/weights/best.pt\",\n",
    "          \"/home/grading/yolov8/weight/yolov8n_gabungan_total_sampling/weights/last.pt\"\n",
    "         ]\n",
    "\n",
    "sources = [\"/home/grading/sampel_video_sampling/Merge_Grading_23_jan_OA.mp4\"]\n",
    "\n",
    "loop = 0\n",
    "total_loops = len(models) * len(imgszs) * len(sources) * len(rois) * len(thres) * len(ious)\n",
    "start_time = time.time()\n",
    "\n",
    "for model in models:\n",
    "    for imgsz in imgszs:\n",
    "        for source in sources:\n",
    "            for roi in rois:\n",
    "                for thre in thres:  # Corrected typo here\n",
    "                    for iou in ious:\n",
    "                        # Construct the command as you did before\n",
    "                        loop += 1\n",
    "                        elapsed_time = time.time() - start_time\n",
    "                        estimated_remaining_time = (elapsed_time / loop) * (total_loops - loop)\n",
    "                        percentage = (loop / total_loops) * 100\n",
    "                        print(f\"Progress: {percentage:.2f}% ({loop}/{total_loops}), ETR: {estimated_remaining_time:.2f} seconds\")\n",
    "                        command = f'python 9-track-master.py --mode \"debug\" --roi {roi} --conf_thres {thre} --source {source} --yolo_model {model} --imgsz {imgsz} --iou_thres {iou}'\n",
    "                        !{command}\n",
    "                        # # Execute the command within the same Python process\n",
    "                        # result = !{command}\n",
    "\n",
    "                        # # Process the result as needed\n",
    "                        # for line in result:\n",
    "                        #     print(line)\n"
   ]
  },
  {
   "cell_type": "code",
   "execution_count": null,
   "id": "536cc238-25c9-4600-aa2f-568a8fc26768",
   "metadata": {},
   "outputs": [],
   "source": []
  }
 ],
 "metadata": {
  "kernelspec": {
   "display_name": "Python 3 (ipykernel)",
   "language": "python",
   "name": "python3"
  },
  "language_info": {
   "codemirror_mode": {
    "name": "ipython",
    "version": 3
   },
   "file_extension": ".py",
   "mimetype": "text/x-python",
   "name": "python",
   "nbconvert_exporter": "python",
   "pygments_lexer": "ipython3",
   "version": "3.11.6"
  }
 },
 "nbformat": 4,
 "nbformat_minor": 5
}
