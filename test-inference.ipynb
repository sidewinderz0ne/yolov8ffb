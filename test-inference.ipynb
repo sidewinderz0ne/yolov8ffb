{
 "cells": [
  {
   "cell_type": "code",
   "execution_count": 1,
   "id": "4a3c89ef-d99b-472a-8565-21bf1be6d11c",
   "metadata": {},
   "outputs": [
    {
     "name": "stdout",
     "output_type": "stream",
     "text": [
      "/home/sdz/grading/inference/github/yolov8ffb\n"
     ]
    }
   ],
   "source": [
    "cd /home/sdz/grading/inference/github/yolov8ffb/"
   ]
  },
  {
   "cell_type": "code",
   "execution_count": null,
   "id": "47c28391-4f0a-46a5-8487-6a7d1c607782",
   "metadata": {},
   "outputs": [],
   "source": [
    "models = [\"yolov5lu\", \"yolov5mu\", \"yolov5nu\", \"yolov5su\", \"yolov5xu\",\"yolov8l\",\"yolov8m\",\"yolov8n\",\"yolov8s\",\"yolov8x\"]\n",
    "imgszs = [1280, 640]\n",
    "sources = []\n",
    "rois = [0.5,0.6,0.4]\n",
    "thres = []\n",
    "\n",
    "for model in models:\n",
    "    for imgsz in imgszs:\n",
    "        for source in sources:\n",
    "            for roi in rois:\n",
    "                for thre in thres:]\n",
    "                    !python 8-track-batas_2.py --source \"/home/sdz/grading/inference/Sources/\"\n",
    "                    "
   ]
  },
  {
   "cell_type": "code",
   "execution_count": null,
   "id": "9fce59a7-01ca-4784-b47d-174097cd0817",
   "metadata": {},
   "outputs": [],
   "source": []
  },
  {
   "cell_type": "code",
   "execution_count": null,
   "id": "49495334-e06f-4afa-81bb-d4f2fe28c079",
   "metadata": {},
   "outputs": [],
   "source": []
  }
 ],
 "metadata": {
  "kernelspec": {
   "display_name": "Python 3 (ipykernel)",
   "language": "python",
   "name": "python3"
  },
  "language_info": {
   "codemirror_mode": {
    "name": "ipython",
    "version": 3
   },
   "file_extension": ".py",
   "mimetype": "text/x-python",
   "name": "python",
   "nbconvert_exporter": "python",
   "pygments_lexer": "ipython3",
   "version": "3.11.5"
  }
 },
 "nbformat": 4,
 "nbformat_minor": 5
}
